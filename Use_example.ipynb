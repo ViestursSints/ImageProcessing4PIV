{
 "cells": [
  {
   "cell_type": "code",
   "execution_count": null,
   "metadata": {},
   "outputs": [],
   "source": [
    "# An example of image processing workflow that takes images stored in \"input_folder\" and produces processed images for PIV analysis.\n",
    "# In practice, you might want to run the functions from \"PIV_preprocess_pub\" marked as \"for testing\" to fine tune parameters\n",
    "\n",
    "import PIV_preprocess_pub as piv_im\n",
    "import tqdm\n",
    "\n",
    "input_folder = \"/your/input/folder\" #this folder contains raw images\n",
    "output_folder = \"/your/output/folder\" #folders with results will be created here\n",
    "\n",
    "# prepare a list of runs to analyze\n",
    "run_from = 1; run_to = 10; run_distance = run_to - run_from + 1\n",
    "stretch_list = np.linspace(run_from,run_to,num=run_distance)\n",
    "\n",
    "# first run histogram stretch\n",
    "for run_id in tqdm.tqdm(stretch_list):\n",
    "    piv_im.sequence_stretch(input_folder, int(run_id), gamma = 1.2, show_it=False,\n",
    "                            out_fold = output_folder,\n",
    "                         image_range = 1, cutoff_f = 0.00001, c_meth = 'off_first_peak', \n",
    "                         dev_one=-0.1, ends = [400, 1200], wide = 0.5)\n",
    "\n",
    "# this will create folders with histogram stretched images\n",
    "\n",
    "# then run all other image processing functions\n",
    "\n",
    "process_list = np.linspace(run_from,run_to,num=run_distance)\n",
    "for runx in tqdm.tqdm(process_list):\n",
    "    piv_im.sequence_many(output_folder, int(runx), core_n=10, high_kern=15, low_kern=3, \n",
    "                         back = False)\n",
    "\n",
    "# this will create folders with processed images"
   ]
  }
 ],
 "metadata": {
  "language_info": {
   "name": "python"
  }
 },
 "nbformat": 4,
 "nbformat_minor": 2
}
