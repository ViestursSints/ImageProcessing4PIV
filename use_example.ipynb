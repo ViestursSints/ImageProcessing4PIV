# An example of image processing workflow that takes images stored in "input_folder" and produces processed images for PIV analysis.
# In practice, you might want to run the functions from "PIV_preprocess_pub" marked as "for testing" to fine tune parameters

import PIV_preprocess_pub as piv_im
import tqdm

input_folder = "/your/input/folder" #this folder contains raw images
output_folder = "/your/output/folder" #folders with results will be created here

# prepare a list of runs to analyze
run_from = 1; run_to = 10; run_distance = run_to - run_from + 1
stretch_list = np.linspace(run_from,run_to,num=run_distance)

# first run histogram stretch
for run_id in tqdm.tqdm(stretch_list):
    piv_im.sequence_stretch(input_folder, int(run_id), gamma = 1.2, show_it=False,
                            out_fold = output_folder,
                         image_range = 1, cutoff_f = 0.00001, c_meth = 'off_first_peak', 
                         dev_one=-0.1, ends = [400, 1200], wide = 0.5)

# this will create folders with histogram stretched images

# then run all other image processing functions

process_list = np.linspace(run_from,run_to,num=run_distance)
for runx in tqdm.tqdm(process_list):
    piv_im.sequence_many(output_folder, int(runx), core_n=10, high_kern=15, low_kern=3, 
                         back = False)

# this will create folders with processed images
